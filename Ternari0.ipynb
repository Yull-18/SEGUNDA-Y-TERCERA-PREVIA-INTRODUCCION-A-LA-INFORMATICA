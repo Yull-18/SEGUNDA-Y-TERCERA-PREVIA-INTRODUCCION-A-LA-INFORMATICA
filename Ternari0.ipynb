{
  "nbformat": 4,
  "nbformat_minor": 0,
  "metadata": {
    "colab": {
      "name": "Ternari0.ipynb",
      "provenance": [],
      "collapsed_sections": []
    },
    "kernelspec": {
      "name": "python3",
      "display_name": "Python 3"
    },
    "language_info": {
      "name": "python"
    }
  },
  "cells": [
    {
      "cell_type": "code",
      "metadata": {
        "id": "YqCSIDkWhYNA"
      },
      "source": [
        "class Ternario:\n",
        "  pass\n",
        "\n",
        "b = Ternario()"
      ],
      "execution_count": null,
      "outputs": []
    },
    {
      "cell_type": "code",
      "metadata": {
        "colab": {
          "base_uri": "https://localhost:8080/"
        },
        "id": "9OFn88hKhonv",
        "outputId": "d9952133-0362-4959-d56c-10865a621d8b"
      },
      "source": [
        "class Ternario:\n",
        "  def __init__ (self):\n",
        "    print(\"Este es el constructor\")\n",
        "\n",
        "b = Ternario()\n"
      ],
      "execution_count": null,
      "outputs": [
        {
          "output_type": "stream",
          "name": "stdout",
          "text": [
            "Este es el constructor\n"
          ]
        }
      ]
    },
    {
      "cell_type": "code",
      "metadata": {
        "colab": {
          "base_uri": "https://localhost:8080/"
        },
        "id": "NjImLRa6h7ef",
        "outputId": "4d0326f5-5792-4f27-e623-6a4a0fa0a8f9"
      },
      "source": [
        "class Ternario:\n",
        "  def __init__ (self,dato):\n",
        "    self.dato = dato\n",
        "\n",
        "b = Ternario(\"012\")\n",
        "print(b.dato)"
      ],
      "execution_count": null,
      "outputs": [
        {
          "output_type": "stream",
          "name": "stdout",
          "text": [
            "012\n"
          ]
        }
      ]
    },
    {
      "cell_type": "code",
      "metadata": {
        "colab": {
          "base_uri": "https://localhost:8080/"
        },
        "id": "T4Blp-AyiO5S",
        "outputId": "dda9b56c-4073-48ed-cbad-6749e94eb2cb"
      },
      "source": [
        "class Ternario:\n",
        "  def __init__ (self, dato):\n",
        "    self.dato = dato\n",
        "  def string( self ):\n",
        "    print(self.dato)\n",
        "\n",
        "b = Ternario(\"012\")\n",
        "b.string()"
      ],
      "execution_count": null,
      "outputs": [
        {
          "output_type": "stream",
          "name": "stdout",
          "text": [
            "012\n"
          ]
        }
      ]
    },
    {
      "cell_type": "code",
      "metadata": {
        "colab": {
          "base_uri": "https://localhost:8080/"
        },
        "id": "Sg2I9p2Ki0Jj",
        "outputId": "db96953c-1c84-40ed-f51f-16bcc50e81a9"
      },
      "source": [
        "class Ternario:\n",
        "  lista_ternaria = []\n",
        "\n",
        "  def __init__ (self, cadena_ternaria):\n",
        "    self.cadena_ternaria = cadena_ternaria\n",
        "    self.lista_ternaria = list( self.cadena_ternaria)\n",
        "  def string( self ):\n",
        "    print( self.cadena_ternaria )\n",
        "    print( self.lista_ternaria )\n",
        "\n",
        "b = Ternario( \"012\" )\n",
        "b.string()\n"
      ],
      "execution_count": null,
      "outputs": [
        {
          "output_type": "stream",
          "name": "stdout",
          "text": [
            "012\n",
            "['0', '1', '2']\n"
          ]
        }
      ]
    },
    {
      "cell_type": "code",
      "metadata": {
        "colab": {
          "base_uri": "https://localhost:8080/"
        },
        "id": "tHNFPSIRkWdo",
        "outputId": "19bb54ae-43ff-4c80-832d-0ac3520b1258"
      },
      "source": [
        "class Ternario:\n",
        "  lista_ternaria = []\n",
        "\n",
        "  def __init__ ( self, cadena_ternaria ):\n",
        "    self.cadena_ternaria = cadena_ternaria\n",
        "    self.lista_ternaria = list( self.cadena_ternaria )\n",
        "\n",
        "    i = 0\n",
        "    for dato in self.lista_ternaria:\n",
        "      self.lista_ternaria[i] = int(dato)\n",
        "      i = i + 1\n",
        "\n",
        "  def string( self ):\n",
        "    print( self.cadena_ternaria )\n",
        "    print( self.lista_ternaria )\n",
        "\n",
        "a = Ternario( \"012\" )\n",
        "a.string()"
      ],
      "execution_count": null,
      "outputs": [
        {
          "output_type": "stream",
          "name": "stdout",
          "text": [
            "012\n",
            "[0, 1, 2]\n"
          ]
        }
      ]
    },
    {
      "cell_type": "code",
      "metadata": {
        "colab": {
          "base_uri": "https://localhost:8080/"
        },
        "id": "CPVsB27ylkK4",
        "outputId": "9fab9a0e-a8c5-4bd7-be95-e125d94ae2d1"
      },
      "source": [
        "class Ternario:\n",
        "  lista_ternaria = []\n",
        "\n",
        "  def __init__ ( self, cadena_ternaria ):\n",
        "    self.cadena_ternaria = cadena_ternaria\n",
        "    self.lista_ternaria = list( self.cadena_ternaria )\n",
        "\n",
        "    i = 0\n",
        "    for dato in self.lista_ternaria:\n",
        "      self.lista_ternaria[i] = int(dato)\n",
        "      i = i + 1\n",
        "    \n",
        "    self.lista_ternaria = list(reversed(self.lista_ternaria))\n",
        "\n",
        "  def string( self ):\n",
        "    print( self.cadena_ternaria )\n",
        "    print( self.lista_ternaria )\n",
        "\n",
        "a = Ternario( \"012\" )\n",
        "a.string()"
      ],
      "execution_count": null,
      "outputs": [
        {
          "output_type": "stream",
          "name": "stdout",
          "text": [
            "012\n",
            "[2, 1, 0]\n"
          ]
        }
      ]
    },
    {
      "cell_type": "code",
      "metadata": {
        "colab": {
          "base_uri": "https://localhost:8080/"
        },
        "id": "wPgEpHE8l_y0",
        "outputId": "ea0723c9-db89-4acb-a733-60925d6b979f"
      },
      "source": [
        "class Ternario:\n",
        "  base = 3\n",
        "  lista_ternaria = []\n",
        "\n",
        "  def __init__ ( self, cadena_ternaria ):\n",
        "    self.cadena_ternaria = cadena_ternaria\n",
        "    self.lista_ternaria = list( self.cadena_ternaria )\n",
        "\n",
        "    i = 0\n",
        "    for dato in self.lista_ternaria:\n",
        "      self.lista_ternaria[i] = int(dato)\n",
        "      i = i + 1\n",
        "\n",
        "    self.lista_ternaria = list(reversed(self.lista_ternaria))\n",
        "\n",
        "  def decimal( self ):\n",
        "    numero_decimal = 0\n",
        "    i = 0\n",
        "    for dato in self.lista_ternaria:\n",
        "      numero_decimal += self.base**i * self.lista_ternaria[i]\n",
        "      i = i + 1\n",
        "    return numero_decimal\n",
        "\n",
        "  def string( self ):\n",
        "    print( self.cadena_ternaria )\n",
        "    print( self.lista_ternaria )\n",
        "\n",
        "a = Ternario( \"37401\" )\n",
        "a.string()\n",
        "print( a.decimal() )"
      ],
      "execution_count": null,
      "outputs": [
        {
          "output_type": "stream",
          "name": "stdout",
          "text": [
            "37401\n",
            "[1, 0, 4, 7, 3]\n",
            "469\n"
          ]
        }
      ]
    }
  ]
}