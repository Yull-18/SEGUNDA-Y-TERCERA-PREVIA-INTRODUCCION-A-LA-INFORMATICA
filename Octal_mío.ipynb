{
  "nbformat": 4,
  "nbformat_minor": 0,
  "metadata": {
    "colab": {
      "name": "Octal_mío.ipynb",
      "provenance": []
    },
    "kernelspec": {
      "name": "python3",
      "display_name": "Python 3"
    },
    "language_info": {
      "name": "python"
    }
  },
  "cells": [
    {
      "cell_type": "code",
      "metadata": {
        "id": "8hVSozHbjWYY"
      },
      "source": [
        "# 1. Crear la  clase Octal\n",
        "\n",
        "class Octal:\n",
        "  pass\n",
        "\n",
        "a = Octal()"
      ],
      "execution_count": null,
      "outputs": []
    },
    {
      "cell_type": "code",
      "metadata": {
        "colab": {
          "base_uri": "https://localhost:8080/"
        },
        "id": "aQhv429ajzeM",
        "outputId": "65122b33-7fa3-4b8a-cd7e-9f9dc24cf6ed"
      },
      "source": [
        "#2 Crear un \"constructor\" de objetos, inicialmente con un mensaje\n",
        "\n",
        "class Octal:\n",
        "  def __init__ (self):\n",
        "    print(\"Este es el constructor\")\n",
        "\n",
        "a = Octal()\n",
        "  "
      ],
      "execution_count": null,
      "outputs": [
        {
          "output_type": "stream",
          "name": "stdout",
          "text": [
            "Este es el constructor\n"
          ]
        }
      ]
    },
    {
      "cell_type": "code",
      "metadata": {
        "colab": {
          "base_uri": "https://localhost:8080/"
        },
        "id": "cEvNzz1xk3oI",
        "outputId": "b98490ca-1fb1-4dc9-fe86-cb0ac287c28f"
      },
      "source": [
        "# 3. Modificar el \"constructor\" para que permita recibir el octal como una cadena\n",
        "\n",
        "class Octal:\n",
        "  def __init__ (self, dato):\n",
        "    self.dato = dato\n",
        "\n",
        "a = Octal(\"37401\")\n",
        "print ( a.dato )"
      ],
      "execution_count": null,
      "outputs": [
        {
          "output_type": "stream",
          "name": "stdout",
          "text": [
            "37401\n"
          ]
        }
      ]
    },
    {
      "cell_type": "code",
      "metadata": {
        "colab": {
          "base_uri": "https://localhost:8080/"
        },
        "id": "Y16t6J8lk4pO",
        "outputId": "94f9f7f1-7ffe-470a-8a84-18574fb748f4"
      },
      "source": [
        "# 4. Crear un método (función) para mostrar el contenido del objeto\n",
        "\n",
        "class Octal:\n",
        "  def __init__ (self, dato):\n",
        "    self.dato = dato\n",
        "  def string( self ):\n",
        "    print(self.dato)\n",
        "\n",
        "a = Octal(\"37401\")\n",
        "a.string()"
      ],
      "execution_count": null,
      "outputs": [
        {
          "output_type": "stream",
          "name": "stdout",
          "text": [
            "37401\n"
          ]
        }
      ]
    },
    {
      "cell_type": "code",
      "metadata": {
        "colab": {
          "base_uri": "https://localhost:8080/"
        },
        "id": "vak7Cne3k90c",
        "outputId": "bb2c0765-e329-4e19-8913-c4b454a2a1a6"
      },
      "source": [
        "# 5. Convertir la cadena que almacena el Octal, en una lista\n",
        "\n",
        "class Octal:\n",
        "  lista_octal = []\n",
        "\n",
        "  def __init__ ( self, cadena_octal ):\n",
        "    self.cadena_octal = cadena_octal\n",
        "    self.lista_octal = list( self.cadena_octal )\n",
        "  def string( self ):\n",
        "    print( self.cadena_octal )\n",
        "    print( self.lista_octal )\n",
        "\n",
        "a = Octal( \"37401\" )\n",
        "a.string()"
      ],
      "execution_count": null,
      "outputs": [
        {
          "output_type": "stream",
          "name": "stdout",
          "text": [
            "37401\n",
            "['3', '7', '4', '0', '1']\n"
          ]
        }
      ]
    },
    {
      "cell_type": "code",
      "metadata": {
        "colab": {
          "base_uri": "https://localhost:8080/"
        },
        "id": "eMhlsQmAk_Rg",
        "outputId": "b10ec393-fd76-40bf-e3cc-3c9dfc9d1bab"
      },
      "source": [
        "# 6. Convertir la lista de strings en una  lista de enteros\n",
        "\n",
        "class Octal:\n",
        "  lista_octal = []\n",
        "\n",
        "  def __init__ ( self, cadena_octal ):\n",
        "    self.cadena_octal = cadena_octal\n",
        "    self.lista_octal = list( self.cadena_octal )\n",
        "\n",
        "    i = 0\n",
        "    for dato in self.lista_octal:\n",
        "      self.lista_octal[i] = int(dato)\n",
        "      i = i + 1\n",
        "\n",
        "  def string( self ):\n",
        "    print( self.cadena_octal )\n",
        "    print( self.lista_octal )\n",
        "\n",
        "a = Octal( \"37401\" )\n",
        "a.string()"
      ],
      "execution_count": null,
      "outputs": [
        {
          "output_type": "stream",
          "name": "stdout",
          "text": [
            "37401\n",
            "[3, 7, 4, 0, 1]\n"
          ]
        }
      ]
    },
    {
      "cell_type": "code",
      "metadata": {
        "colab": {
          "base_uri": "https://localhost:8080/"
        },
        "id": "i3wE9zXqlJ4O",
        "outputId": "b7431d83-dc5b-4c5e-de81-ed1a5157009a"
      },
      "source": [
        "# 7. Invertir la lista para que coincida con los octales en metamáticas\n",
        "\n",
        "class Octal:\n",
        "  lista_octal = []\n",
        "\n",
        "  def __init__ ( self, cadena_octal ):\n",
        "    self.cadena_octal = cadena_octal\n",
        "    self.lista_octal = list( self.cadena_octal )\n",
        "\n",
        "    i = 0\n",
        "    for dato in self.lista_octal:\n",
        "      self.lista_octal[i] = int(dato)\n",
        "      i = i + 1\n",
        "\n",
        "    self.lista_octal = list(reversed(self.lista_octal))\n",
        "\n",
        "  def string( self ):\n",
        "    print( self.cadena_octal )\n",
        "    print( self.lista_octal )\n",
        "\n",
        "a = Octal( \"37401\" )\n",
        "a.string()"
      ],
      "execution_count": null,
      "outputs": [
        {
          "output_type": "stream",
          "name": "stdout",
          "text": [
            "37401\n",
            "[1, 0, 4, 7, 3]\n"
          ]
        }
      ]
    },
    {
      "cell_type": "code",
      "metadata": {
        "id": "AaEnIieRlawv",
        "outputId": "e36b1dad-10c7-46f7-fd24-b2e7c882eef6",
        "colab": {
          "base_uri": "https://localhost:8080/"
        }
      },
      "source": [
        "# 8. Crear una función para encontrar el valor decimal del octal\n",
        "\n",
        "class Octal:\n",
        "  base = 8\n",
        "  lista_octal = []\n",
        "\n",
        "  def __init__ ( self, cadena_octal ):\n",
        "    self.cadena_octal = cadena_octal\n",
        "    self.lista_octal = list( self.cadena_octal )\n",
        "\n",
        "    i = 0\n",
        "    for dato in self.lista_octal:\n",
        "      self.lista_octal[i] = int(dato)\n",
        "      i = i + 1\n",
        "\n",
        "    self.lista_octal = list(reversed(self.lista_octal))\n",
        "\n",
        "  def decimal( self ):\n",
        "    numero_decimal = 0\n",
        "    i = 0\n",
        "    for dato in self.lista_octal:\n",
        "      numero_decimal += self.base**i * self.lista_octal[i]\n",
        "      i = i + 1\n",
        "    return numero_decimal\n",
        "\n",
        "  def string( self ):\n",
        "    print( self.cadena_octal )\n",
        "    print( self.lista_octal )\n",
        "\n",
        "a = Octal( \"37401\" )\n",
        "a.string()\n",
        "print( a.decimal() )"
      ],
      "execution_count": null,
      "outputs": [
        {
          "output_type": "stream",
          "name": "stdout",
          "text": [
            "37401\n",
            "[1, 0, 4, 7, 3]\n",
            "16129\n"
          ]
        }
      ]
    }
  ]
}