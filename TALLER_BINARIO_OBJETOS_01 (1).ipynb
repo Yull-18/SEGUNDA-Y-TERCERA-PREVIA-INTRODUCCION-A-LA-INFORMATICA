{
  "nbformat": 4,
  "nbformat_minor": 0,
  "metadata": {
    "colab": {
      "name": "TALLER - BINARIO - OBJETOS - #01.ipynb",
      "provenance": [],
      "collapsed_sections": []
    },
    "kernelspec": {
      "name": "python3",
      "display_name": "Python 3"
    },
    "language_info": {
      "name": "python"
    }
  },
  "cells": [
    {
      "cell_type": "markdown",
      "metadata": {
        "id": "HV7t23V5lXHt"
      },
      "source": [
        "## TALLER Nro. 0001\n",
        "\n",
        "1. La lista a ser enviada en la creación del número binario, puede tener cualquier cantidad de dígitos. Esto significa que el objeto podría crearse, por ejemplo, así: a = Binario([1, 1]), o también así: a = Binario([0, 0, 0, 1, 1, 0])\n",
        "\n",
        "2. Se debe reescribir la función: decimal, de modo que el cálculo no sea fijo, sino que dependa del número de elementos recibidos dentro de la lista\n",
        "\n",
        "3. Probar la nueva función con la creación de los siguientes objetos:\n",
        "\n",
        "- a = Binario([1, 1])\n",
        "- b = Binario([0, 1, 0, 1])\n",
        "- c = Binario([1, 1, 0, 0, 1, 1])\n",
        "\n",
        "Y así se utilizan:\n",
        "\n",
        "- print( a.decimal() )\n",
        "- print( b.decimal() )\n",
        "- print( c.decimal() )"
      ]
    },
    {
      "cell_type": "code",
      "metadata": {
        "colab": {
          "base_uri": "https://localhost:8080/"
        },
        "id": "nShZqieNlSE8",
        "outputId": "a9cc69f1-f81a-4dd7-8b9f-a7269516a7e1"
      },
      "source": [
        "class Binario:\n",
        "  def __init__(self, dato):\n",
        "    self.dato = dato\n",
        "  def inverse(self):\n",
        "     return self.dato[::-1]\n",
        "  def decimal(self):\n",
        "    posicion = 0\n",
        "    decimal = 0\n",
        "    for digito in self.inverse():\n",
        "      multiplicador = 2**posicion\n",
        "      decimal += int(digito) * multiplicador\n",
        "      posicion += 1\n",
        "    return decimal\n",
        "\n",
        "\n",
        "a = Binario([1, 1, 1, 0, 1])\n",
        "print( a.dato )\n",
        "print(a.decimal())\n",
        "print(\"Primer ejercicio taller \")\n",
        "b = Binario([1,1])\n",
        "print(b.dato)\n",
        "print(b.decimal())\n",
        "print(\"Segundo ejercicio taller\")\n",
        "c = Binario([0,1,0,1])\n",
        "print(c.dato)\n",
        "print(c.decimal())\n",
        "print(\"Tercero ejercicio taller\")\n",
        "d = Binario([1,1,0,0,1,1])\n",
        "print(d.dato)\n",
        "print(d.decimal())\n"
      ],
      "execution_count": 3,
      "outputs": [
        {
          "output_type": "stream",
          "name": "stdout",
          "text": [
            "[1, 1, 1, 0, 1]\n",
            "29\n",
            "Primer ejercicio taller \n",
            "[1, 1]\n",
            "3\n",
            "Segundo ejercicio taller\n",
            "[0, 1, 0, 1]\n",
            "5\n",
            "Tercero ejercicio taller\n",
            "[1, 1, 0, 0, 1, 1]\n",
            "51\n"
          ]
        }
      ]
    },
    {
      "cell_type": "markdown",
      "metadata": {
        "id": "XzEUdymamlTt"
      },
      "source": [
        "## TALLER Nro 02\n",
        "\n",
        "Crear una nueva versión de la clase Binario de modo que reciba NO una lista, sino una cadena en la cual se encuentre el número binario.\n",
        "\n",
        "Ejemplo\n",
        "\n",
        "a = Binario(\"11101\")\n",
        "print( a.dato )\n",
        "print( a.decimal() )\n",
        "\n",
        "\"11101\"\n",
        "29\n",
        "\n",
        "NOTA: INTERNAMENTE DESPUÉS DE RECIBIR LA CADENA BINARIA, SE DEBE CONVERTIR A UNA LISTA\n"
      ]
    },
    {
      "cell_type": "code",
      "metadata": {
        "id": "S1pxBMN2sfyB"
      },
      "source": [
        "class Binario:\n",
        "  def __init__(self, dato):\n",
        "    self.dato = dato\n",
        "  def lista(self):\n",
        "    return [int(x) for x in str(self.dato)] \n",
        "  def inverse(self):\n",
        "     return self.lista()[::-1]\n",
        "  def decimal(self):\n",
        "    posicion = 0\n",
        "    decimal = 0\n",
        "    for digito in self.inverse():\n",
        "      multiplicador = 2**posicion\n",
        "      decimal += int(digito) * multiplicador\n",
        "      posicion += 1\n",
        "    return decimal\n",
        "\n",
        "\n",
        "a = Binario(input(\"Ingrese un número binario \"))\n",
        "print(a.dato)\n",
        "print(a.decimal())\n",
        "b = Binario(input(\"Ingrese un número binario \"))\n",
        "print(b.dato)\n",
        "print(b.decimal())\n",
        "c = Binario(input(\"Ingrese un número binario \"))\n",
        "print(c.dato)\n",
        "print(c.decimal())\n",
        "d = Binario(input(\"Ingrese un número binario \"))\n",
        "print(d.dato)\n",
        "print(d.decimal())"
      ],
      "execution_count": null,
      "outputs": []
    }
  ]
}