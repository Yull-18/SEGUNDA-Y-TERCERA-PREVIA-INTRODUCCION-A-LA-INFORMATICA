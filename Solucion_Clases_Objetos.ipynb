{
  "nbformat": 4,
  "nbformat_minor": 0,
  "metadata": {
    "colab": {
      "name": "Solucion-Clases-Objetos.ipynb",
      "provenance": []
    },
    "kernelspec": {
      "display_name": "Python 3",
      "name": "python3"
    },
    "language_info": {
      "name": "python"
    }
  },
  "cells": [
    {
      "cell_type": "code",
      "metadata": {
        "colab": {
          "base_uri": "https://localhost:8080/"
        },
        "id": "GoaP3JdQsEMf",
        "outputId": "5ddad7a9-1663-4080-be2c-10a76c1af399"
      },
      "source": [
        "class Gato:\n",
        "  numero_patas = 4  # Variable de clase - Pertenece a todos los objetos\n",
        "  def __init__(self, raza, nombre, edad): # Recibe la raza, el nombre y la edad\n",
        "    self.raza = raza\n",
        "    self.nombre = nombre\n",
        "    self.edad = edad\n",
        "  def Maullar(self):\n",
        "    print(\"El Gato está feliz: MIAU !!!\")\n",
        "  def get_raza(self): # Obtener la raza\n",
        "    print(\"La raza del Gato es =\", self.raza)\n",
        "  def get_nombre(self): # Obtener el nombre\n",
        "    print(\"El nombre del Gato es =\", self.nombre)\n",
        "  def get_edad(self): # Obtener la edad\n",
        "    print(\"La edad del Gato =\", self.edad)\n",
        "\n",
        "p = Gato(\"Persa\", \"Tom\", 6)\n",
        "p.Maullar()\n",
        "p.get_raza()\n",
        "p.get_nombre()\n",
        "p.get_edad()\n",
        "\n",
        "print(\"Número de patas del Gato =\", p.numero_patas)"
      ],
      "execution_count": null,
      "outputs": [
        {
          "name": "stdout",
          "output_type": "stream",
          "text": [
            "El Gato está feliz: MIAU !!!\n",
            "La raza del Gato es = Persa\n",
            "El nombre del Gato es = Tom\n",
            "La edad del Gato = 6\n",
            "Número de patas del Gato = 4\n"
          ]
        }
      ]
    },
    {
      "cell_type": "code",
      "metadata": {
        "colab": {
          "base_uri": "https://localhost:8080/"
        },
        "id": "pLGqlBvZt8bf",
        "outputId": "7496fad9-e8d9-44eb-de62-b8b13b203e08"
      },
      "source": [
        "class Moto:\n",
        "  numero_llantas = 2  # Variable de clase - Pertenece a todos los objetos\n",
        "  def __init__(self, marca, modelo, año): # Recibe la Marca, el Modelo y el Año de lanzamiento\n",
        "    self.marca = marca\n",
        "    self.modelo = modelo\n",
        "    self.año = año\n",
        "  def tipo(self):\n",
        "    print(\"La Moto es Automática\")\n",
        "  def get_marca(self): # Obtener la Marca\n",
        "    print(\"La Marca de la Moto es =\", self.marca)\n",
        "  def get_modelo(self): # Obtener el nombre\n",
        "    print(\"El Modelo de la Moto es =\", self.modelo)\n",
        "  def get_año(self): # Obtener la edad\n",
        "    print(\"El Año de la Moto es =\", self.año)\n",
        "\n",
        "p = Moto(\"AKT\", \"DYNAMIC K 125\", 2021)\n",
        "p.tipo()\n",
        "p.get_marca()\n",
        "p.get_modelo()\n",
        "p.get_año()\n",
        "\n",
        "print(\"Número de llantas de la Moto =\", p.numero_llantas)"
      ],
      "execution_count": null,
      "outputs": [
        {
          "output_type": "stream",
          "name": "stdout",
          "text": [
            "La Moto es Automática\n",
            "La Marca de la Moto es = AKT\n",
            "El Modelo de la Moto es = DYNAMIC K 125\n",
            "El Año de la Moto es = 2021\n",
            "Número de llantas de la Moto = 2\n"
          ]
        }
      ]
    }
  ]
}